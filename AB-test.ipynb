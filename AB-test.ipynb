{
 "cells": [
  {
   "cell_type": "code",
   "execution_count": 1,
   "metadata": {},
   "outputs": [],
   "source": [
    "import pandas as pd\n",
    "import numpy as np\n",
    "import os\n",
    "import seaborn as sns\n",
    "import matplotlib.pyplot as plt\n",
    "import scipy\n",
    "from scipy import stats\n",
    "import statsmodels\n",
    "from scipy.stats import normaltest\n",
    "from scipy.stats import shapiro\n",
    "from scipy.stats import ttest_ind"
   ]
  },
  {
   "cell_type": "code",
   "execution_count": 2,
   "metadata": {},
   "outputs": [
    {
     "data": {
      "text/html": [
       "<div>\n",
       "<style scoped>\n",
       "    .dataframe tbody tr th:only-of-type {\n",
       "        vertical-align: middle;\n",
       "    }\n",
       "\n",
       "    .dataframe tbody tr th {\n",
       "        vertical-align: top;\n",
       "    }\n",
       "\n",
       "    .dataframe thead th {\n",
       "        text-align: right;\n",
       "    }\n",
       "</style>\n",
       "<table border=\"1\" class=\"dataframe\">\n",
       "  <thead>\n",
       "    <tr style=\"text-align: right;\">\n",
       "      <th></th>\n",
       "      <th>Unnamed: 0</th>\n",
       "      <th>user id</th>\n",
       "      <th>test group</th>\n",
       "      <th>converted</th>\n",
       "      <th>total ads</th>\n",
       "      <th>most ads day</th>\n",
       "      <th>most ads hour</th>\n",
       "    </tr>\n",
       "  </thead>\n",
       "  <tbody>\n",
       "    <tr>\n",
       "      <th>0</th>\n",
       "      <td>0</td>\n",
       "      <td>1069124</td>\n",
       "      <td>ad</td>\n",
       "      <td>False</td>\n",
       "      <td>130</td>\n",
       "      <td>Monday</td>\n",
       "      <td>20</td>\n",
       "    </tr>\n",
       "    <tr>\n",
       "      <th>1</th>\n",
       "      <td>1</td>\n",
       "      <td>1119715</td>\n",
       "      <td>ad</td>\n",
       "      <td>False</td>\n",
       "      <td>93</td>\n",
       "      <td>Tuesday</td>\n",
       "      <td>22</td>\n",
       "    </tr>\n",
       "    <tr>\n",
       "      <th>2</th>\n",
       "      <td>2</td>\n",
       "      <td>1144181</td>\n",
       "      <td>ad</td>\n",
       "      <td>False</td>\n",
       "      <td>21</td>\n",
       "      <td>Tuesday</td>\n",
       "      <td>18</td>\n",
       "    </tr>\n",
       "    <tr>\n",
       "      <th>3</th>\n",
       "      <td>3</td>\n",
       "      <td>1435133</td>\n",
       "      <td>ad</td>\n",
       "      <td>False</td>\n",
       "      <td>355</td>\n",
       "      <td>Tuesday</td>\n",
       "      <td>10</td>\n",
       "    </tr>\n",
       "    <tr>\n",
       "      <th>4</th>\n",
       "      <td>4</td>\n",
       "      <td>1015700</td>\n",
       "      <td>ad</td>\n",
       "      <td>False</td>\n",
       "      <td>276</td>\n",
       "      <td>Friday</td>\n",
       "      <td>14</td>\n",
       "    </tr>\n",
       "  </tbody>\n",
       "</table>\n",
       "</div>"
      ],
      "text/plain": [
       "   Unnamed: 0  user id test group  converted  total ads most ads day  \\\n",
       "0           0  1069124         ad      False        130       Monday   \n",
       "1           1  1119715         ad      False         93      Tuesday   \n",
       "2           2  1144181         ad      False         21      Tuesday   \n",
       "3           3  1435133         ad      False        355      Tuesday   \n",
       "4           4  1015700         ad      False        276       Friday   \n",
       "\n",
       "   most ads hour  \n",
       "0             20  \n",
       "1             22  \n",
       "2             18  \n",
       "3             10  \n",
       "4             14  "
      ]
     },
     "execution_count": 2,
     "metadata": {},
     "output_type": "execute_result"
    }
   ],
   "source": [
    "test = pd.read_csv('tests_HW.zip')\n",
    "test.head()"
   ]
  },
  {
   "cell_type": "markdown",
   "metadata": {},
   "source": [
    "        Компании заинтересованы в ответах на два вопроса:\n",
    "\n",
    "Будет ли кампания успешной?\n",
    "\n",
    "\n",
    "Если кампания была успешной, насколько этот успех можно объяснить рекламой?"
   ]
  },
  {
   "cell_type": "markdown",
   "metadata": {},
   "source": [
    "    Идея задания состоит в том, чтобы проанализировать группы, выяснить, была ли реклама успешной, сколько компания может заработать на рекламе и является ли разница между группами статистически значимой."
   ]
  },
  {
   "cell_type": "markdown",
   "metadata": {},
   "source": [
    "user id: Идентификатор пользователя (уникальный).\n",
    "\n",
    "test group: Если \"ad\", то человек видел рекламу, если \"psa\", то он видел только объявление государственной службы.\n",
    "\n",
    "converted: Если человек купил продукт, то True, иначе False.\n",
    "\n",
    "total ads: Количество рекламы, увиденной человеком.\n",
    "\n",
    "most ads day: День, в который человек увидел наибольшее количество рекламы.\n",
    "\n",
    "most ads hour: Час дня, в который человек увидел наибольшее количество рекламы.\n"
   ]
  },
  {
   "cell_type": "code",
   "execution_count": 3,
   "metadata": {},
   "outputs": [
    {
     "name": "stdout",
     "output_type": "stream",
     "text": [
      "<class 'pandas.core.frame.DataFrame'>\n",
      "RangeIndex: 588101 entries, 0 to 588100\n",
      "Data columns (total 7 columns):\n",
      " #   Column         Non-Null Count   Dtype \n",
      "---  ------         --------------   ----- \n",
      " 0   Unnamed: 0     588101 non-null  int64 \n",
      " 1   user id        588101 non-null  int64 \n",
      " 2   test group     588101 non-null  object\n",
      " 3   converted      588101 non-null  bool  \n",
      " 4   total ads      588101 non-null  int64 \n",
      " 5   most ads day   588101 non-null  object\n",
      " 6   most ads hour  588101 non-null  int64 \n",
      "dtypes: bool(1), int64(4), object(2)\n",
      "memory usage: 27.5+ MB\n"
     ]
    }
   ],
   "source": [
    "test.info()\n",
    "# Пропусков нет"
   ]
  },
  {
   "cell_type": "markdown",
   "metadata": {},
   "source": [
    "Работа со столбцами:\n",
    "\n",
    "1. test_group - можем привести к категориальным \n",
    "\n",
    "2. most_ads_day - приводим к категориальным\n",
    "\n",
    "3. most_ads_hour - приводим к категориальным\n",
    "    \n"
   ]
  },
  {
   "cell_type": "code",
   "execution_count": 4,
   "metadata": {},
   "outputs": [],
   "source": [
    "# Делаем копию датасета\n",
    "df = test.copy()"
   ]
  },
  {
   "cell_type": "code",
   "execution_count": 5,
   "metadata": {},
   "outputs": [
    {
     "name": "stdout",
     "output_type": "stream",
     "text": [
      "<class 'pandas.core.frame.DataFrame'>\n",
      "RangeIndex: 588101 entries, 0 to 588100\n",
      "Data columns (total 7 columns):\n",
      " #   Column         Non-Null Count   Dtype   \n",
      "---  ------         --------------   -----   \n",
      " 0   Unnamed: 0     588101 non-null  int64   \n",
      " 1   user id        588101 non-null  int64   \n",
      " 2   test group     588101 non-null  category\n",
      " 3   converted      588101 non-null  bool    \n",
      " 4   total ads      588101 non-null  int64   \n",
      " 5   most ads day   588101 non-null  category\n",
      " 6   most ads hour  588101 non-null  category\n",
      "dtypes: bool(1), category(3), int64(3)\n",
      "memory usage: 15.7 MB\n"
     ]
    }
   ],
   "source": [
    "df['test group'] = df['test group'].astype('category')\n",
    "df['most ads day'] = df['most ads day'].astype('category')\n",
    "df['most ads hour'] = df['most ads hour'].astype('category')\n",
    "df.info()"
   ]
  },
  {
   "cell_type": "code",
   "execution_count": 6,
   "metadata": {},
   "outputs": [
    {
     "data": {
      "text/html": [
       "<div>\n",
       "<style scoped>\n",
       "    .dataframe tbody tr th:only-of-type {\n",
       "        vertical-align: middle;\n",
       "    }\n",
       "\n",
       "    .dataframe tbody tr th {\n",
       "        vertical-align: top;\n",
       "    }\n",
       "\n",
       "    .dataframe thead th {\n",
       "        text-align: right;\n",
       "    }\n",
       "</style>\n",
       "<table border=\"1\" class=\"dataframe\">\n",
       "  <thead>\n",
       "    <tr style=\"text-align: right;\">\n",
       "      <th></th>\n",
       "      <th>Unnamed: 0</th>\n",
       "      <th>user id</th>\n",
       "      <th>test group</th>\n",
       "      <th>converted</th>\n",
       "      <th>total ads</th>\n",
       "      <th>most ads day</th>\n",
       "      <th>most ads hour</th>\n",
       "    </tr>\n",
       "  </thead>\n",
       "  <tbody>\n",
       "    <tr>\n",
       "      <th>0</th>\n",
       "      <td>0</td>\n",
       "      <td>1069124</td>\n",
       "      <td>ad</td>\n",
       "      <td>False</td>\n",
       "      <td>130</td>\n",
       "      <td>Monday</td>\n",
       "      <td>20</td>\n",
       "    </tr>\n",
       "    <tr>\n",
       "      <th>1</th>\n",
       "      <td>1</td>\n",
       "      <td>1119715</td>\n",
       "      <td>ad</td>\n",
       "      <td>False</td>\n",
       "      <td>93</td>\n",
       "      <td>Tuesday</td>\n",
       "      <td>22</td>\n",
       "    </tr>\n",
       "    <tr>\n",
       "      <th>2</th>\n",
       "      <td>2</td>\n",
       "      <td>1144181</td>\n",
       "      <td>ad</td>\n",
       "      <td>False</td>\n",
       "      <td>21</td>\n",
       "      <td>Tuesday</td>\n",
       "      <td>18</td>\n",
       "    </tr>\n",
       "    <tr>\n",
       "      <th>3</th>\n",
       "      <td>3</td>\n",
       "      <td>1435133</td>\n",
       "      <td>ad</td>\n",
       "      <td>False</td>\n",
       "      <td>355</td>\n",
       "      <td>Tuesday</td>\n",
       "      <td>10</td>\n",
       "    </tr>\n",
       "    <tr>\n",
       "      <th>4</th>\n",
       "      <td>4</td>\n",
       "      <td>1015700</td>\n",
       "      <td>ad</td>\n",
       "      <td>False</td>\n",
       "      <td>276</td>\n",
       "      <td>Friday</td>\n",
       "      <td>14</td>\n",
       "    </tr>\n",
       "  </tbody>\n",
       "</table>\n",
       "</div>"
      ],
      "text/plain": [
       "   Unnamed: 0  user id test group  converted  total ads most ads day  \\\n",
       "0           0  1069124         ad      False        130       Monday   \n",
       "1           1  1119715         ad      False         93      Tuesday   \n",
       "2           2  1144181         ad      False         21      Tuesday   \n",
       "3           3  1435133         ad      False        355      Tuesday   \n",
       "4           4  1015700         ad      False        276       Friday   \n",
       "\n",
       "  most ads hour  \n",
       "0            20  \n",
       "1            22  \n",
       "2            18  \n",
       "3            10  \n",
       "4            14  "
      ]
     },
     "execution_count": 6,
     "metadata": {},
     "output_type": "execute_result"
    }
   ],
   "source": [
    "df.head()"
   ]
  },
  {
   "cell_type": "code",
   "execution_count": 7,
   "metadata": {},
   "outputs": [
    {
     "data": {
      "text/html": [
       "<div>\n",
       "<style scoped>\n",
       "    .dataframe tbody tr th:only-of-type {\n",
       "        vertical-align: middle;\n",
       "    }\n",
       "\n",
       "    .dataframe tbody tr th {\n",
       "        vertical-align: top;\n",
       "    }\n",
       "\n",
       "    .dataframe thead th {\n",
       "        text-align: right;\n",
       "    }\n",
       "</style>\n",
       "<table border=\"1\" class=\"dataframe\">\n",
       "  <thead>\n",
       "    <tr style=\"text-align: right;\">\n",
       "      <th></th>\n",
       "      <th>Unnamed: 0</th>\n",
       "      <th>user id</th>\n",
       "      <th>total ads</th>\n",
       "    </tr>\n",
       "  </thead>\n",
       "  <tbody>\n",
       "    <tr>\n",
       "      <th>count</th>\n",
       "      <td>588101.000000</td>\n",
       "      <td>5.881010e+05</td>\n",
       "      <td>588101.000000</td>\n",
       "    </tr>\n",
       "    <tr>\n",
       "      <th>mean</th>\n",
       "      <td>294050.000000</td>\n",
       "      <td>1.310692e+06</td>\n",
       "      <td>24.820876</td>\n",
       "    </tr>\n",
       "    <tr>\n",
       "      <th>std</th>\n",
       "      <td>169770.279667</td>\n",
       "      <td>2.022260e+05</td>\n",
       "      <td>43.715181</td>\n",
       "    </tr>\n",
       "    <tr>\n",
       "      <th>min</th>\n",
       "      <td>0.000000</td>\n",
       "      <td>9.000000e+05</td>\n",
       "      <td>1.000000</td>\n",
       "    </tr>\n",
       "    <tr>\n",
       "      <th>25%</th>\n",
       "      <td>147025.000000</td>\n",
       "      <td>1.143190e+06</td>\n",
       "      <td>4.000000</td>\n",
       "    </tr>\n",
       "    <tr>\n",
       "      <th>50%</th>\n",
       "      <td>294050.000000</td>\n",
       "      <td>1.313725e+06</td>\n",
       "      <td>13.000000</td>\n",
       "    </tr>\n",
       "    <tr>\n",
       "      <th>75%</th>\n",
       "      <td>441075.000000</td>\n",
       "      <td>1.484088e+06</td>\n",
       "      <td>27.000000</td>\n",
       "    </tr>\n",
       "    <tr>\n",
       "      <th>max</th>\n",
       "      <td>588100.000000</td>\n",
       "      <td>1.654483e+06</td>\n",
       "      <td>2065.000000</td>\n",
       "    </tr>\n",
       "  </tbody>\n",
       "</table>\n",
       "</div>"
      ],
      "text/plain": [
       "          Unnamed: 0       user id      total ads\n",
       "count  588101.000000  5.881010e+05  588101.000000\n",
       "mean   294050.000000  1.310692e+06      24.820876\n",
       "std    169770.279667  2.022260e+05      43.715181\n",
       "min         0.000000  9.000000e+05       1.000000\n",
       "25%    147025.000000  1.143190e+06       4.000000\n",
       "50%    294050.000000  1.313725e+06      13.000000\n",
       "75%    441075.000000  1.484088e+06      27.000000\n",
       "max    588100.000000  1.654483e+06    2065.000000"
      ]
     },
     "execution_count": 7,
     "metadata": {},
     "output_type": "execute_result"
    }
   ],
   "source": [
    "df.describe()"
   ]
  },
  {
   "cell_type": "markdown",
   "metadata": {},
   "source": [
    "Проверьте данные на наличие пропусков и избавьтесь от них, если нужно.\n",
    "### Пропусков не обнаружено"
   ]
  },
  {
   "cell_type": "code",
   "execution_count": 8,
   "metadata": {},
   "outputs": [],
   "source": [
    "# Разделим на A-B группы\n",
    "df_a = df[df['test group'] =='ad']\n",
    "df_b = df[df['test group'] =='psa']"
   ]
  },
  {
   "cell_type": "markdown",
   "metadata": {},
   "source": [
    "Проверьте, есть ли пользователи, которые в процессе A/Bтеста попали в обе группы. Если да, исключите пользователей, оказавшихся в обеих группах."
   ]
  },
  {
   "cell_type": "code",
   "execution_count": 41,
   "metadata": {},
   "outputs": [
    {
     "data": {
      "text/plain": [
       "test group\n",
       "1    588101\n",
       "Name: count, dtype: int64"
      ]
     },
     "execution_count": 41,
     "metadata": {},
     "output_type": "execute_result"
    }
   ],
   "source": [
    "#Первым методом\n",
    "df.groupby('user id')['test group'].count().value_counts()\n",
    "#Нет пользователей попавших в обе группы"
   ]
  },
  {
   "cell_type": "code",
   "execution_count": 10,
   "metadata": {},
   "outputs": [
    {
     "name": "stdout",
     "output_type": "stream",
     "text": [
      "Нет пользователей, попавших в обе группы.\n"
     ]
    }
   ],
   "source": [
    "# Вторым методом\n",
    "# Пользователи из группы А(ad) и B(psa)\n",
    "users_ad = df_a['user id']\n",
    "users_psa = df_b['user id']\n",
    "\n",
    "# Проверка наличия пересечения пользователей\n",
    "intersection_users = set(users_ad) & set(users_psa)\n",
    "\n",
    "if intersection_users:\n",
    "    # Исключение пользователей, попавших в обе группы\n",
    "    users_ad = list(set(users_ad) - intersection_users)\n",
    "    users_psa = list(set(users_psa) - intersection_users)\n",
    "\n",
    "    # Вывод результатов\n",
    "    print(f\"Исключены пользователи, попавшие в обе группы: {list(intersection_users)}\")\n",
    "    print(f\"Обновленный список пользователей в группе ad: {users_ad}\")\n",
    "    print(f\"Обновленный список пользователей в группе psa: {users_psa}\")\n",
    "else:\n",
    "    print(\"Нет пользователей, попавших в обе группы.\")\n"
   ]
  },
  {
   "cell_type": "markdown",
   "metadata": {},
   "source": [
    "    Стоит вопрос: убирать выбросы или нет?. \n",
    "\n",
    "Ниже по boxplot видим, что данные в группах с большими выбросами, однако выбросов довольно много, удалив их мы все равно не добьемся нормального распределения (и QQplot ниже нам это доказывает), также довольно сложно проконтролировать действительно ли человек просмотрел столько рекламмы или нет\n",
    "\n",
    "-> поэтому в данной работе я пока не стал убирать выбросы"
   ]
  },
  {
   "cell_type": "code",
   "execution_count": 11,
   "metadata": {},
   "outputs": [
    {
     "data": {
      "image/png": "[encoded data removed]",
      "text/plain": [
       "<Figure size 800x400 with 1 Axes>"
      ]
     },
     "metadata": {},
     "output_type": "display_data"
    }
   ],
   "source": [
    "fig = plt.figure(figsize=(8, 4)) \n",
    "ax = fig.add_axes([1, 1, 1, 1]) \n",
    "\n",
    "# строим boxplot для conversion по признаку group\n",
    "sns.boxplot(data=df, x='total ads', y='test group', ax=ax) \n",
    "ax.set_title('Сравнение количества просмотренной рекламмы в группах')\n",
    "ax.grid();"
   ]
  },
  {
   "cell_type": "code",
   "execution_count": 12,
   "metadata": {},
   "outputs": [],
   "source": [
    "def outliers_iqr(data:np.array, feature:pd.Series):\n",
    "    \"\"\"\n",
    "    Функция для выявления выбросов по методу Тьюоки\n",
    "    с помощью интерквартильного размаха (IQR)\n",
    "    На вход подается датасе и признак который мы хотим\n",
    "    проанальизировать.\n",
    "    Возвращается:\n",
    "    чисkо выбросов (outliers) и количество конечных записей (cleaned)\n",
    "    \"\"\"\n",
    "    x = data[feature]\n",
    "    quartile_1, quartile_3 = x.quantile(0.25), x.quantile(0.75),\n",
    "    iqr = quartile_3 - quartile_1\n",
    "    lower_bound = quartile_1 - (iqr * 1.5)\n",
    "    upper_bound = quartile_3 + (iqr * 1.5)\n",
    "    outliers = data[(x < lower_bound) | (x > upper_bound)]\n",
    "    cleaned = data[(x > lower_bound) & (x < upper_bound)]\n",
    "    return outliers, cleaned\n"
   ]
  },
  {
   "cell_type": "code",
   "execution_count": 13,
   "metadata": {},
   "outputs": [
    {
     "name": "stdout",
     "output_type": "stream",
     "text": [
      "Число выбросов по методу Тьюки для группы ad: 49861\n",
      "Результирующее число записей: 514716\n",
      "Процент выбросов: 9.7\n"
     ]
    },
    {
     "name": "stderr",
     "output_type": "stream",
     "text": [
      "c:\\Users\\minik\\anaconda3\\Lib\\site-packages\\scipy\\stats\\_morestats.py:1882: UserWarning: p-value may not be accurate for N > 5000.\n",
      "  warnings.warn(\"p-value may not be accurate for N > 5000.\")\n"
     ]
    },
    {
     "name": "stdout",
     "output_type": "stream",
     "text": [
      "ShapiroResult(statistic=0.8651376962661743, pvalue=0.0)\n",
      "NormaltestResult(statistic=87296.27292838864, pvalue=0.0)\n"
     ]
    },
    {
     "data": {
      "image/png": "[encoded data removed]",
      "text/plain": [
       "<Figure size 1500x400 with 2 Axes>"
      ]
     },
     "metadata": {},
     "output_type": "display_data"
    },
    {
     "data": {
      "image/png": "[encoded data removed]",
      "text/plain": [
       "<Figure size 640x480 with 1 Axes>"
      ]
     },
     "metadata": {},
     "output_type": "display_data"
    }
   ],
   "source": [
    "outliers, cleaned = outliers_iqr(df_a, 'total ads')\n",
    "print(f'Число выбросов по методу Тьюки для группы ad: {outliers.shape[0]}')\n",
    "print(f'Результирующее число записей: {cleaned.shape[0]}')\n",
    "print(f'Процент выбросов: {round((outliers.shape[0]/cleaned.shape[0])*100,1)}')\n",
    "\n",
    "#Строим визуализацию после удаления выборосов\n",
    "fig, axes = plt.subplots(nrows=1, ncols=2, figsize=(15, 4))\n",
    "histplot = sns.histplot(data=cleaned, x='total ads', ax=axes[0]);\n",
    "histplot.set_title('Cleaned Total Ads Distribution');\n",
    "boxplot = sns.boxplot(data=cleaned, x='total ads', ax=axes[1]);\n",
    "boxplot.set_title('Cleaned Total Ads Boxplot');\n",
    "\n",
    "# Тест на нормальность графически с помощью QQ-plot\n",
    "fig, (ax1) = plt.subplots(1)\n",
    "fig.suptitle('QQ Plot', fontsize=16)\n",
    "stats.probplot(cleaned['total ads'],dist=\"norm\", plot=ax1)\n",
    "\n",
    "# Тест на нормальность Шапиро-Уилка\n",
    "print(shapiro(cleaned['total ads']))\n",
    "# Тест на нормальность Д'Агостино\n",
    "print(normaltest(cleaned['total ads']))"
   ]
  },
  {
   "cell_type": "code",
   "execution_count": 14,
   "metadata": {},
   "outputs": [
    {
     "name": "stdout",
     "output_type": "stream",
     "text": [
      "Число выбросов по методу Тьюки для группы psa: 2321\n",
      "Результирующее число записей: 21159\n",
      "Процент выбросов: 11.0\n"
     ]
    },
    {
     "name": "stderr",
     "output_type": "stream",
     "text": [
      "c:\\Users\\minik\\anaconda3\\Lib\\site-packages\\scipy\\stats\\_morestats.py:1882: UserWarning: p-value may not be accurate for N > 5000.\n",
      "  warnings.warn(\"p-value may not be accurate for N > 5000.\")\n"
     ]
    },
    {
     "name": "stdout",
     "output_type": "stream",
     "text": [
      "ShapiroResult(statistic=0.8529506921768188, pvalue=0.0)\n",
      "NormaltestResult(statistic=3590.554395697545, pvalue=0.0)\n"
     ]
    },
    {
     "data": {
      "image/png": "[encoded data removed]",
      "text/plain": [
       "<Figure size 1500x400 with 2 Axes>"
      ]
     },
     "metadata": {},
     "output_type": "display_data"
    },
    {
     "data": {
      "image/png": "[encoded data removed]",
      "text/plain": [
       "<Figure size 640x480 with 1 Axes>"
      ]
     },
     "metadata": {},
     "output_type": "display_data"
    }
   ],
   "source": [
    "outliers, cleaned = outliers_iqr(df_b, 'total ads')\n",
    "print(f'Число выбросов по методу Тьюки для группы psa: {outliers.shape[0]}')\n",
    "print(f'Результирующее число записей: {cleaned.shape[0]}')\n",
    "print(f'Процент выбросов: {round((outliers.shape[0]/cleaned.shape[0])*100,1)}')\n",
    "\n",
    "#Строим визуализацию после удаления выборосов\n",
    "fig, axes = plt.subplots(nrows=1, ncols=2, figsize=(15, 4))\n",
    "histplot = sns.histplot(data=cleaned, x='total ads', ax=axes[0]);\n",
    "histplot.set_title('Cleaned Total Ads Distribution');\n",
    "boxplot = sns.boxplot(data=cleaned, x='total ads', ax=axes[1]);\n",
    "boxplot.set_title('Cleaned Total Ads Boxplot');\n",
    "\n",
    "# Тест на нормальность графически с помощью QQ-plot\n",
    "fig, (ax1) = plt.subplots(1)\n",
    "fig.suptitle('QQ Plot', fontsize=16)\n",
    "stats.probplot(cleaned['total ads'],dist=\"norm\", plot=ax1)\n",
    "\n",
    "# Тест на нормальность Шапиро-Уилка\n",
    "print(shapiro(cleaned['total ads']))\n",
    "# Тест на нормальность Д'Агостино\n",
    "print(normaltest(cleaned['total ads']))"
   ]
  },
  {
   "cell_type": "markdown",
   "metadata": {},
   "source": [
    "            Сделайте первичный анализ результатов A/B-тестирования\n",
    "Рассчитайте вспомогательные показатели для контрольной и тестовой групп:"
   ]
  },
  {
   "cell_type": "code",
   "execution_count": 15,
   "metadata": {},
   "outputs": [
    {
     "data": {
      "text/html": [
       "<div>\n",
       "<style scoped>\n",
       "    .dataframe tbody tr th:only-of-type {\n",
       "        vertical-align: middle;\n",
       "    }\n",
       "\n",
       "    .dataframe tbody tr th {\n",
       "        vertical-align: top;\n",
       "    }\n",
       "\n",
       "    .dataframe thead th {\n",
       "        text-align: right;\n",
       "    }\n",
       "</style>\n",
       "<table border=\"1\" class=\"dataframe\">\n",
       "  <thead>\n",
       "    <tr style=\"text-align: right;\">\n",
       "      <th></th>\n",
       "      <th>test group</th>\n",
       "      <th>user id</th>\n",
       "      <th>converted</th>\n",
       "    </tr>\n",
       "  </thead>\n",
       "  <tbody>\n",
       "    <tr>\n",
       "      <th>0</th>\n",
       "      <td>ad</td>\n",
       "      <td>564577</td>\n",
       "      <td>14423</td>\n",
       "    </tr>\n",
       "    <tr>\n",
       "      <th>1</th>\n",
       "      <td>psa</td>\n",
       "      <td>23524</td>\n",
       "      <td>420</td>\n",
       "    </tr>\n",
       "  </tbody>\n",
       "</table>\n",
       "</div>"
      ],
      "text/plain": [
       "  test group  user id  converted\n",
       "0         ad   564577      14423\n",
       "1        psa    23524        420"
      ]
     },
     "execution_count": 15,
     "metadata": {},
     "output_type": "execute_result"
    }
   ],
   "source": [
    "# Количество посещений сайта;\n",
    "# Cуммарное количество совершённых покупок;\n",
    "count_visit = df.groupby(['test group']).agg({\n",
    "    'user id': 'count',\n",
    "    'converted': 'sum'\n",
    "}).reset_index()\n",
    "count_visit"
   ]
  },
  {
   "cell_type": "markdown",
   "metadata": {},
   "source": [
    "1. Сопоставимо ли количество посещений обоих вариантов посадочной страницы? \n",
    "\n",
    "2. Можно ли говорить о сбалансированности выборок?\n",
    "\n",
    "        Видим, что в группе ad - посещиний гораздо больше. Соотвественно и говорить о сбаласированности выборок нельзя\n"
   ]
  },
  {
   "cell_type": "markdown",
   "metadata": {},
   "source": [
    "В каждой из групп рассчитайте ключевые показатели:\n"
   ]
  },
  {
   "cell_type": "code",
   "execution_count": 16,
   "metadata": {},
   "outputs": [
    {
     "data": {
      "text/html": [
       "<div>\n",
       "<style scoped>\n",
       "    .dataframe tbody tr th:only-of-type {\n",
       "        vertical-align: middle;\n",
       "    }\n",
       "\n",
       "    .dataframe tbody tr th {\n",
       "        vertical-align: top;\n",
       "    }\n",
       "\n",
       "    .dataframe thead th {\n",
       "        text-align: right;\n",
       "    }\n",
       "</style>\n",
       "<table border=\"1\" class=\"dataframe\">\n",
       "  <thead>\n",
       "    <tr style=\"text-align: right;\">\n",
       "      <th></th>\n",
       "      <th>test group</th>\n",
       "      <th>user id</th>\n",
       "      <th>converted</th>\n",
       "      <th>conversion</th>\n",
       "    </tr>\n",
       "  </thead>\n",
       "  <tbody>\n",
       "    <tr>\n",
       "      <th>0</th>\n",
       "      <td>ad</td>\n",
       "      <td>564577</td>\n",
       "      <td>14423</td>\n",
       "      <td>2.554656</td>\n",
       "    </tr>\n",
       "    <tr>\n",
       "      <th>1</th>\n",
       "      <td>psa</td>\n",
       "      <td>23524</td>\n",
       "      <td>420</td>\n",
       "      <td>1.785411</td>\n",
       "    </tr>\n",
       "  </tbody>\n",
       "</table>\n",
       "</div>"
      ],
      "text/plain": [
       "  test group  user id  converted  conversion\n",
       "0         ad   564577      14423    2.554656\n",
       "1        psa    23524        420    1.785411"
      ]
     },
     "execution_count": 16,
     "metadata": {},
     "output_type": "execute_result"
    }
   ],
   "source": [
    "# Конверсия группы ad и pas в %\n",
    "count_visit['conversion'] = (count_visit['converted']*100)/ count_visit['user id']\n",
    "\n",
    "count_visit.head()"
   ]
  },
  {
   "cell_type": "markdown",
   "metadata": {},
   "source": [
    "На первый взгляд эффективнее вариант А"
   ]
  },
  {
   "cell_type": "code",
   "execution_count": 17,
   "metadata": {},
   "outputs": [
    {
     "data": {
      "text/html": [
       "<div>\n",
       "<style scoped>\n",
       "    .dataframe tbody tr th:only-of-type {\n",
       "        vertical-align: middle;\n",
       "    }\n",
       "\n",
       "    .dataframe tbody tr th {\n",
       "        vertical-align: top;\n",
       "    }\n",
       "\n",
       "    .dataframe thead th {\n",
       "        text-align: right;\n",
       "    }\n",
       "</style>\n",
       "<table border=\"1\" class=\"dataframe\">\n",
       "  <thead>\n",
       "    <tr style=\"text-align: right;\">\n",
       "      <th></th>\n",
       "      <th>test group</th>\n",
       "      <th>total ads</th>\n",
       "    </tr>\n",
       "  </thead>\n",
       "  <tbody>\n",
       "    <tr>\n",
       "      <th>0</th>\n",
       "      <td>ad</td>\n",
       "      <td>24.823365</td>\n",
       "    </tr>\n",
       "    <tr>\n",
       "      <th>1</th>\n",
       "      <td>psa</td>\n",
       "      <td>24.761138</td>\n",
       "    </tr>\n",
       "  </tbody>\n",
       "</table>\n",
       "</div>"
      ],
      "text/plain": [
       "  test group  total ads\n",
       "0         ad  24.823365\n",
       "1        psa  24.761138"
      ]
     },
     "execution_count": 17,
     "metadata": {},
     "output_type": "execute_result"
    }
   ],
   "source": [
    "mean_ads = df.groupby(['test group']).agg({\n",
    "    'total ads': 'mean'\n",
    "}).reset_index()\n",
    "\n",
    "mean_ads\n",
    "# Среднее количество рекламмы увиденной пользователями почти \n",
    "# одинаково, на ~ 0.06 больше в Ad"
   ]
  },
  {
   "cell_type": "markdown",
   "metadata": {},
   "source": [
    "### Сформулируйте статистические гипотезы, соответствующие поставленным бизнес-вопросам;\n"
   ]
  },
  {
   "cell_type": "markdown",
   "metadata": {},
   "source": [
    "Проверяем гипотезу по конверсии"
   ]
  },
  {
   "cell_type": "markdown",
   "metadata": {},
   "source": [
    "    *Не забудьте проверить данные на нормальность там, где это необходимо.\n",
    "\n"
   ]
  },
  {
   "cell_type": "markdown",
   "metadata": {},
   "source": [
    "В рамках данных df['converted'] проверять распределение на нормальность не имеет смысла, т.к. переменная бинарная."
   ]
  },
  {
   "cell_type": "markdown",
   "metadata": {},
   "source": [
    "    Обычно для бинарных переменных используют метод пропорций"
   ]
  },
  {
   "cell_type": "code",
   "execution_count": 18,
   "metadata": {},
   "outputs": [],
   "source": [
    "from statsmodels.stats.proportion import proportions_ztest"
   ]
  },
  {
   "cell_type": "code",
   "execution_count": 19,
   "metadata": {},
   "outputs": [
    {
     "name": "stdout",
     "output_type": "stream",
     "text": [
      "p-value:  0.0\n",
      "Отвергаем нулевую гипотезу : Нет статистически значимого различия в конверсии между группами ad и psa\n",
      "Альтернативная гипотеза H1: Есть статистически значимое различие в конверсии между группами ad и psa\n"
     ]
    }
   ],
   "source": [
    "# Two-sided\n",
    "H0 = \"Нет статистически значимого различия в конверсии между группами ad и psa\"\n",
    "H1 = \"Есть статистически значимое различие в конверсии между группами ad и psa\" \n",
    "alpha = 0.05\n",
    "# вычисляем значение p-value для z-теста для пропорций\n",
    "_, p_value = proportions_ztest(\n",
    "    count=count_visit['converted'], #число \"успехов\"\n",
    "    nobs=count_visit['user id'], #общее число наблюдений\n",
    "    alternative='two-sided',\n",
    ")\n",
    "# выводим результат на экран\n",
    "print('p-value: ', round(p_value, 5))\n",
    "\n",
    "# сравниваем полученное p-value с уровнем значимости\n",
    "if (p_value < alpha): \n",
    "    print(f\"Отвергаем нулевую гипотезу : {H0}\")\n",
    "    print(f\"Альтернативная гипотеза H1: {H1}\")\n",
    "else:\n",
    "    print(f\"Принимаем нулевую гипотезу. {H0}\")"
   ]
  },
  {
   "cell_type": "code",
   "execution_count": 20,
   "metadata": {},
   "outputs": [
    {
     "name": "stdout",
     "output_type": "stream",
     "text": [
      "p-value:  8.526403580779863e-14\n",
      "Отвергаем нулевую гипотезу : Нет статистически значимого различия в конверсиях в группах\n",
      "Альтернативная гипотеза H1: Конверсия в группе ad больше конверсии в группе psa\n"
     ]
    }
   ],
   "source": [
    "# Larger\n",
    "H0 = \"Нет статистически значимого различия в конверсиях в группах\"\n",
    "H1 = \"Конверсия в группе ad больше конверсии в группе psa\" \n",
    "alpha = 0.05\n",
    "# вычисляем значение p-value для z-теста для пропорций\n",
    "_, p_value = proportions_ztest(\n",
    "    count=count_visit['converted'], #число \"успехов\"\n",
    "    nobs=count_visit['user id'], #общее число наблюдений\n",
    "    alternative='larger',\n",
    ")\n",
    "# выводим результат на экран\n",
    "print('p-value: ', p_value)\n",
    "\n",
    "# сравниваем полученное p-value с уровнем значимости\n",
    "if (p_value < alpha): \n",
    "    print(f\"Отвергаем нулевую гипотезу : {H0}\")\n",
    "    print(f\"Альтернативная гипотеза H1: {H1}\")\n",
    "else:\n",
    "    print(f\"Принимаем нулевую гипотезу. {H0}\")"
   ]
  },
  {
   "cell_type": "code",
   "execution_count": 21,
   "metadata": {},
   "outputs": [
    {
     "name": "stdout",
     "output_type": "stream",
     "text": [
      "p-value:  0.9999999999999147\n",
      "Принимаем нулевую гипотезу. Конверсия в группе ad равна конверсии в группе psa\n"
     ]
    }
   ],
   "source": [
    "# Smaller\n",
    "H0 = \"Конверсия в группе ad равна конверсии в группе psa\"\n",
    "H1 = \"Конверсия в группе ad меньше конверсии в группе ps\" \n",
    "alpha = 0.05\n",
    "# вычисляем значение p-value для z-теста для пропорций\n",
    "_, p_value = proportions_ztest(\n",
    "    count=count_visit['converted'], #число \"успехов\"\n",
    "    nobs=count_visit['user id'], #общее число наблюдений\n",
    "    alternative='smaller',\n",
    ")\n",
    "# выводим результат на экран\n",
    "print('p-value: ', p_value)\n",
    "\n",
    "# сравниваем полученное p-value с уровнем значимости\n",
    "if (p_value < alpha): \n",
    "    print(f\"Отвергаем нулевую гипотезу : {H0}\")\n",
    "    print(f\"Альтернативная гипотеза H1: {H1}\")\n",
    "else:\n",
    "    print(f\"Принимаем нулевую гипотезу. {H0}\")"
   ]
  },
  {
   "cell_type": "markdown",
   "metadata": {},
   "source": [
    "    Делаем вывод: существует статистическая разница между конверсиями в разных группах, конкретно для гипотезы Greater подверждается, что в группе ad статистически конверсия больше"
   ]
  },
  {
   "cell_type": "markdown",
   "metadata": {},
   "source": [
    "Проверяем гипотезу по среднему количеству просмотренной рекламмы"
   ]
  },
  {
   "cell_type": "code",
   "execution_count": 22,
   "metadata": {},
   "outputs": [
    {
     "data": {
      "text/html": [
       "<div>\n",
       "<style scoped>\n",
       "    .dataframe tbody tr th:only-of-type {\n",
       "        vertical-align: middle;\n",
       "    }\n",
       "\n",
       "    .dataframe tbody tr th {\n",
       "        vertical-align: top;\n",
       "    }\n",
       "\n",
       "    .dataframe thead th {\n",
       "        text-align: right;\n",
       "    }\n",
       "</style>\n",
       "<table border=\"1\" class=\"dataframe\">\n",
       "  <thead>\n",
       "    <tr style=\"text-align: right;\">\n",
       "      <th></th>\n",
       "      <th>test group</th>\n",
       "      <th>total ads</th>\n",
       "    </tr>\n",
       "  </thead>\n",
       "  <tbody>\n",
       "    <tr>\n",
       "      <th>0</th>\n",
       "      <td>ad</td>\n",
       "      <td>24.823365</td>\n",
       "    </tr>\n",
       "    <tr>\n",
       "      <th>1</th>\n",
       "      <td>psa</td>\n",
       "      <td>24.761138</td>\n",
       "    </tr>\n",
       "  </tbody>\n",
       "</table>\n",
       "</div>"
      ],
      "text/plain": [
       "  test group  total ads\n",
       "0         ad  24.823365\n",
       "1        psa  24.761138"
      ]
     },
     "execution_count": 22,
     "metadata": {},
     "output_type": "execute_result"
    }
   ],
   "source": [
    "# Среднее количество просмотренной рекламмы в группах\n",
    "mean_ads"
   ]
  },
  {
   "cell_type": "markdown",
   "metadata": {},
   "source": [
    "Здесь уже необходимо проверить распределение на нормальность"
   ]
  },
  {
   "cell_type": "code",
   "execution_count": 23,
   "metadata": {},
   "outputs": [
    {
     "name": "stderr",
     "output_type": "stream",
     "text": [
      "c:\\Users\\minik\\anaconda3\\Lib\\site-packages\\scipy\\stats\\_morestats.py:1882: UserWarning: p-value may not be accurate for N > 5000.\n",
      "  warnings.warn(\"p-value may not be accurate for N > 5000.\")\n"
     ]
    },
    {
     "name": "stdout",
     "output_type": "stream",
     "text": [
      "ShapiroResult(statistic=0.4787434935569763, pvalue=0.0)\n",
      "NormaltestResult(statistic=757442.9548815457, pvalue=0.0)\n"
     ]
    },
    {
     "data": {
      "image/png": "[encoded data removed]",
      "text/plain": [
       "<Figure size 640x480 with 1 Axes>"
      ]
     },
     "metadata": {},
     "output_type": "display_data"
    }
   ],
   "source": [
    "# Тест на нормальность графически с помощью QQ-plot\n",
    "fig, (ax1) = plt.subplots(1)\n",
    "fig.suptitle('QQ Plot', fontsize=16)\n",
    "stats.probplot(df_a['total ads'],dist=\"norm\", plot=ax1)\n",
    "\n",
    "# Тест на нормальность Шапиро-Уилка\n",
    "print(shapiro(df_a['total ads']))\n",
    "# Тест на нормальность Д'Агостино\n",
    "print(normaltest(df_a['total ads']))"
   ]
  },
  {
   "cell_type": "code",
   "execution_count": 24,
   "metadata": {},
   "outputs": [
    {
     "name": "stdout",
     "output_type": "stream",
     "text": [
      "ShapiroResult(statistic=0.5159035921096802, pvalue=0.0)\n",
      "NormaltestResult(statistic=26073.244160196744, pvalue=0.0)\n"
     ]
    },
    {
     "data": {
      "image/png": "[encoded data removed]",
      "text/plain": [
       "<Figure size 640x480 with 1 Axes>"
      ]
     },
     "metadata": {},
     "output_type": "display_data"
    }
   ],
   "source": [
    "# Тест на нормальность графически с помощью QQ-plot\n",
    "fig, (ax1) = plt.subplots(1)\n",
    "fig.suptitle('QQ Plot', fontsize=16)\n",
    "stats.probplot(df_b['total ads'],dist=\"norm\", plot=ax1)\n",
    "\n",
    "# Тест на нормальность Шапиро-Уилка\n",
    "print(shapiro(df_b['total ads']))\n",
    "# Тест на нормальность Д'Агостино\n",
    "print(normaltest(df_b['total ads']))"
   ]
  },
  {
   "cell_type": "markdown",
   "metadata": {},
   "source": [
    "Распределение не нормальное, следовательно воспользоваться параметрическими тестами мы не можем. Под наши критерии подходит статистический тест Манни-Уитни - Вилкоксона (U критерий Манна-Уитни) - непараметрическую альтернативу t-критерия для независимых выборок"
   ]
  },
  {
   "cell_type": "code",
   "execution_count": 25,
   "metadata": {},
   "outputs": [],
   "source": [
    "from scipy.stats import mannwhitneyu"
   ]
  },
  {
   "cell_type": "code",
   "execution_count": 26,
   "metadata": {},
   "outputs": [
    {
     "data": {
      "text/plain": [
       "MannwhitneyuResult(statistic=6808288222.0, pvalue=4.6909108547205694e-11)"
      ]
     },
     "execution_count": 26,
     "metadata": {},
     "output_type": "execute_result"
    }
   ],
   "source": [
    "# Предварительный результат по двусторонней теории\n",
    "mannwhitneyu(df_a['total ads'], df_b['total ads'], alternative='two-sided')"
   ]
  },
  {
   "cell_type": "code",
   "execution_count": 27,
   "metadata": {},
   "outputs": [
    {
     "name": "stdout",
     "output_type": "stream",
     "text": [
      "Статистика U: 6808288222.0\n",
      "p-значение: 4.6909108547205694e-11\n",
      "Отвергаем нулевую гипотезу, придерживаемся альтернативной: Есть статистически значимые различия в среднем количестве просмотренной рекламы между группами.\n"
     ]
    }
   ],
   "source": [
    "#Two-Sided\n",
    "H0 = \"Различия в среднем количестве просмотренной рекламы статистически незначимы\"\n",
    "H1 = \"Есть статистически значимые различия в среднем количестве просмотренной рекламы между группами\"\n",
    "\n",
    "group_ad = df_a['total ads']\n",
    "group_psa = df_b['total ads']\n",
    "\n",
    "# Проведение U-теста Манна-Уитни\n",
    "statistic, p_value = mannwhitneyu(group_ad, group_psa, alternative='two-sided')\n",
    "\n",
    "# Вывод результатов\n",
    "print(f'Статистика U: {statistic}')\n",
    "print(f'p-значение: {p_value}')\n",
    "\n",
    "# Проверка статистической значимости\n",
    "alpha = 0.05\n",
    "if p_value < alpha:\n",
    "    print(f\"Отвергаем нулевую гипотезу, придерживаемся альтернативной: {H1}.\")\n",
    "else:\n",
    "    print(f\"Нет оснований отвергнуть нулевую гипотезу: {H0}.\")"
   ]
  },
  {
   "cell_type": "code",
   "execution_count": 28,
   "metadata": {},
   "outputs": [
    {
     "name": "stdout",
     "output_type": "stream",
     "text": [
      "Статистика U: 6808288222.0\n",
      "p-значение: 2.3454554273602847e-11\n",
      "Отвергаем нулевую гипотезу, придерживаемся альтернативной: Среднее количество просмотров в группе ad больше, чем в группе psa.\n"
     ]
    }
   ],
   "source": [
    "#Greater\n",
    "H0 = \"Среднее количество просмотров в группе ad не больше, чем в группе psa\"\n",
    "H1 = \"Среднее количество просмотров в группе ad больше, чем в группе psa\"\n",
    "\n",
    "group_ad = df_a['total ads']\n",
    "group_psa = df_b['total ads']\n",
    "\n",
    "# Проведение U-теста Манна-Уитни\n",
    "statistic, p_value = mannwhitneyu(group_ad, group_psa, alternative='greater')\n",
    "\n",
    "# Вывод результатов\n",
    "print(f'Статистика U: {statistic}')\n",
    "print(f'p-значение: {p_value}')\n",
    "\n",
    "# Проверка статистической значимости\n",
    "alpha = 0.05\n",
    "if p_value < alpha:\n",
    "    print(f\"Отвергаем нулевую гипотезу, придерживаемся альтернативной: {H1}.\")\n",
    "else:\n",
    "    print(f\"Нет оснований отвергнуть нулевую гипотезу: {H0}.\")"
   ]
  },
  {
   "cell_type": "code",
   "execution_count": 29,
   "metadata": {},
   "outputs": [
    {
     "name": "stdout",
     "output_type": "stream",
     "text": [
      "Статистика U: 6808288222.0\n",
      "p-значение: 0.9999999999765454\n",
      "Нет оснований отвергнуть нулевую гипотезу: Среднее количество просмотров в группе ad не больше, чем в группе psa.\n"
     ]
    }
   ],
   "source": [
    "#Less\n",
    "H0 = \"Среднее количество просмотров в группе ad не больше, чем в группе psa\"\n",
    "H1 = \"Среднее количество просмотров в группе ad меньше, чем в группе psa\"\n",
    "\n",
    "group_ad = df_a['total ads']\n",
    "group_psa = df_b['total ads']\n",
    "\n",
    "# Проведение U-теста Манна-Уитни\n",
    "statistic, p_value = mannwhitneyu(group_ad, group_psa, alternative='less')\n",
    "\n",
    "# Вывод результатов\n",
    "print(f'Статистика U: {statistic}')\n",
    "print(f'p-значение: {p_value}')\n",
    "\n",
    "# Проверка статистической значимости\n",
    "alpha = 0.05\n",
    "if p_value < alpha:\n",
    "    print(f\"Отвергаем нулевую гипотезу, придерживаемся альтернативной: {H1}.\")\n",
    "else:\n",
    "    print(f\"Нет оснований отвергнуть нулевую гипотезу: {H0}.\")"
   ]
  },
  {
   "cell_type": "markdown",
   "metadata": {},
   "source": [
    "    Да, судя по тестам мы точно можем сказать, что среднее количество просмотренной рекламмы в группах не равно.\n",
    "    \n",
    "    Судя по тесту Greater не можем отвергнуть гипотезу: Среднее количество просмотров в группе ad больше, чем в группе psa"
   ]
  },
  {
   "cell_type": "markdown",
   "metadata": {},
   "source": [
    "###  Теперь сравним по доверительным интервалам"
   ]
  },
  {
   "cell_type": "markdown",
   "metadata": {},
   "source": [
    "Доверительный интервал конверсий в каждой из групп;"
   ]
  },
  {
   "cell_type": "code",
   "execution_count": 30,
   "metadata": {},
   "outputs": [
    {
     "data": {
      "text/html": [
       "<div>\n",
       "<style scoped>\n",
       "    .dataframe tbody tr th:only-of-type {\n",
       "        vertical-align: middle;\n",
       "    }\n",
       "\n",
       "    .dataframe tbody tr th {\n",
       "        vertical-align: top;\n",
       "    }\n",
       "\n",
       "    .dataframe thead th {\n",
       "        text-align: right;\n",
       "    }\n",
       "</style>\n",
       "<table border=\"1\" class=\"dataframe\">\n",
       "  <thead>\n",
       "    <tr style=\"text-align: right;\">\n",
       "      <th></th>\n",
       "      <th>test group</th>\n",
       "      <th>user id</th>\n",
       "      <th>converted</th>\n",
       "      <th>conversion</th>\n",
       "    </tr>\n",
       "  </thead>\n",
       "  <tbody>\n",
       "    <tr>\n",
       "      <th>0</th>\n",
       "      <td>ad</td>\n",
       "      <td>564577</td>\n",
       "      <td>14423</td>\n",
       "      <td>2.554656</td>\n",
       "    </tr>\n",
       "    <tr>\n",
       "      <th>1</th>\n",
       "      <td>psa</td>\n",
       "      <td>23524</td>\n",
       "      <td>420</td>\n",
       "      <td>1.785411</td>\n",
       "    </tr>\n",
       "  </tbody>\n",
       "</table>\n",
       "</div>"
      ],
      "text/plain": [
       "  test group  user id  converted  conversion\n",
       "0         ad   564577      14423    2.554656\n",
       "1        psa    23524        420    1.785411"
      ]
     },
     "execution_count": 30,
     "metadata": {},
     "output_type": "execute_result"
    }
   ],
   "source": [
    "count_visit"
   ]
  },
  {
   "cell_type": "code",
   "execution_count": 31,
   "metadata": {},
   "outputs": [
    {
     "name": "stdout",
     "output_type": "stream",
     "text": [
      "Доверительный интервал конверсии для группы ad: (0.02513821650599992,0.025961359215123686)\n",
      "Доверительный интервал конверсии для группы psa: (0.016238943989596074, 0.019626711612411318)\n"
     ]
    }
   ],
   "source": [
    "# Метод 1\n",
    "from statsmodels.stats.proportion import proportion_confint\n",
    "\n",
    "# Данные\n",
    "mask_ad = count_visit['test group'] == 'ad'\n",
    "mask_psa = count_visit['test group'] == 'psa'\n",
    "\n",
    "# Доверительный интервал Уилсона для группы ad\n",
    "success_ad, nobs_ad = count_visit[mask_ad]['converted'], count_visit[mask_ad]['user id']\n",
    "ci_conv_ad_1 = proportion_confint(success_ad, nobs_ad, method='wilson')\n",
    "\n",
    "# Доверительный интервал Уилсона для группы psa\n",
    "success_psa, nobs_psa = count_visit[mask_psa]['converted'], count_visit[mask_psa]['user id']\n",
    "ci_conv_psa_1 = proportion_confint(success_psa, nobs_psa, method='wilson')\n",
    "\n",
    "# Вывод результатов\n",
    "print(f\"Доверительный интервал конверсии для группы ad: ({ci_conv_ad_1[0][0]},{ci_conv_ad_1[1][0]})\")\n",
    "print(f\"Доверительный интервал конверсии для группы psa: ({ci_conv_psa_1[0][1]}, {ci_conv_psa_1[1][1]})\")\n"
   ]
  },
  {
   "cell_type": "code",
   "execution_count": 32,
   "metadata": {},
   "outputs": [
    {
     "name": "stdout",
     "output_type": "stream",
     "text": [
      "Доверительный интервал конверсии для группы ad: (0.02513499198005383, 0.025958127293313666)\n",
      "Доверительный интервал конверсии для группы psa: (0.01616188362021982, 0.019546329268744642)\n"
     ]
    }
   ],
   "source": [
    "# Метод 2 через std\n",
    "# Конверсии нужно перевести в изначальный вид\n",
    "сonv_ad = count_visit[mask_ad]['conversion']/100\n",
    "conv_psa = count_visit[mask_psa]['conversion']/100\n",
    "\n",
    "# Стандартные ошибки\n",
    "std_ad = np.sqrt((сonv_ad * (1 - сonv_ad)) / nobs_ad)\n",
    "std_psa = np.sqrt((conv_psa * (1 - conv_psa)) / nobs_psa)\n",
    "\n",
    "# Z-значение для 95% доверительного интервала\n",
    "z_value = 1.96\n",
    "\n",
    "# Доверительные интервалы\n",
    "ci_conv_ad_2 = (сonv_ad - z_value * std_ad, сonv_ad + z_value * std_ad)\n",
    "ci_conv_psa_2 = (conv_psa - z_value * std_psa, conv_psa + z_value * std_psa)\n",
    "\n",
    "# Вывод результатов\n",
    "print(f\"Доверительный интервал конверсии для группы ad: ({ci_conv_ad_2[0][0]}, {ci_conv_ad_2[1][0]})\")\n",
    "print(f\"Доверительный интервал конверсии для группы psa: ({ci_conv_psa_2[0][1]}, {ci_conv_psa_2[1][1]})\")\n"
   ]
  },
  {
   "cell_type": "markdown",
   "metadata": {},
   "source": [
    "Доверительный интервал разницы конверсий в группах;"
   ]
  },
  {
   "cell_type": "code",
   "execution_count": 33,
   "metadata": {},
   "outputs": [],
   "source": [
    "count_visit['conv'] = count_visit['conversion']/100"
   ]
  },
  {
   "cell_type": "code",
   "execution_count": 34,
   "metadata": {},
   "outputs": [
    {
     "data": {
      "text/html": [
       "<div>\n",
       "<style scoped>\n",
       "    .dataframe tbody tr th:only-of-type {\n",
       "        vertical-align: middle;\n",
       "    }\n",
       "\n",
       "    .dataframe tbody tr th {\n",
       "        vertical-align: top;\n",
       "    }\n",
       "\n",
       "    .dataframe thead th {\n",
       "        text-align: right;\n",
       "    }\n",
       "</style>\n",
       "<table border=\"1\" class=\"dataframe\">\n",
       "  <thead>\n",
       "    <tr style=\"text-align: right;\">\n",
       "      <th></th>\n",
       "      <th>test group</th>\n",
       "      <th>user id</th>\n",
       "      <th>converted</th>\n",
       "      <th>conversion</th>\n",
       "      <th>conv</th>\n",
       "    </tr>\n",
       "  </thead>\n",
       "  <tbody>\n",
       "    <tr>\n",
       "      <th>0</th>\n",
       "      <td>ad</td>\n",
       "      <td>564577</td>\n",
       "      <td>14423</td>\n",
       "      <td>2.554656</td>\n",
       "      <td>0.025547</td>\n",
       "    </tr>\n",
       "    <tr>\n",
       "      <th>1</th>\n",
       "      <td>psa</td>\n",
       "      <td>23524</td>\n",
       "      <td>420</td>\n",
       "      <td>1.785411</td>\n",
       "      <td>0.017854</td>\n",
       "    </tr>\n",
       "  </tbody>\n",
       "</table>\n",
       "</div>"
      ],
      "text/plain": [
       "  test group  user id  converted  conversion      conv\n",
       "0         ad   564577      14423    2.554656  0.025547\n",
       "1        psa    23524        420    1.785411  0.017854"
      ]
     },
     "execution_count": 34,
     "metadata": {},
     "output_type": "execute_result"
    }
   ],
   "source": [
    "count_visit"
   ]
  },
  {
   "cell_type": "code",
   "execution_count": 35,
   "metadata": {},
   "outputs": [
    {
     "name": "stdout",
     "output_type": "stream",
     "text": [
      "Доверительный интервал разницы конверсий: (0.0059514512341076724, 0.009434548765892331)\n"
     ]
    }
   ],
   "source": [
    "# Возьмем данные с таблицы count_visit выше\n",
    "conv_ad = 0.025547 \n",
    "conv_psa = 0.017854\n",
    "nobs_ad = 564577 #общее количество пользователей в группе ad\n",
    "nobs_psa = 23524 #общее количество пользователей в группе psa\n",
    "\n",
    "# Разница конверсий\n",
    "conversion_diff = conv_ad - conv_psa\n",
    "\n",
    "# Стандартная ошибка разницы\n",
    "std_diff = ((conv_ad * (1 - conv_ad) / nobs_ad) + (conv_psa * (1 - conv_psa) / nobs_psa))**0.5\n",
    "\n",
    "# Z-значение для 95% доверительного интервала\n",
    "z_value = 1.96\n",
    "\n",
    "# Доверительный интервал разницы конверсий\n",
    "ci_diff = (conversion_diff - z_value * std_diff, conversion_diff + z_value * std_diff)\n",
    "\n",
    "# Вывод результатов\n",
    "print(f\"Доверительный интервал разницы конверсий: ({ci_diff[0]}, {ci_diff[1]})\")\n"
   ]
  },
  {
   "cell_type": "code",
   "execution_count": 36,
   "metadata": {},
   "outputs": [
    {
     "name": "stdout",
     "output_type": "stream",
     "text": [
      "Разница конверсий в доверительном интервале: 0.003483097531784659\n"
     ]
    }
   ],
   "source": [
    "print(f'Разница конверсий в доверительном интервале: {ci_diff[1] - ci_diff[0]}')"
   ]
  },
  {
   "cell_type": "markdown",
   "metadata": {},
   "source": [
    "По доверительным интервалам мы видим, что разница конверсий состовляет всего 0.00348, что можно было бы интерпретировать как отсутствие какой то значиомсти. "
   ]
  },
  {
   "cell_type": "markdown",
   "metadata": {},
   "source": [
    "    Строим CI среднего количества увиденной рекламы в группах А и B.\n",
    "    \n",
    "    Доверительный интервал по среднему количеству уведенной рекламы в группе А"
   ]
  },
  {
   "cell_type": "markdown",
   "metadata": {},
   "source": [
    "    Сначала попробуем построить без Bootstrap"
   ]
  },
  {
   "cell_type": "code",
   "execution_count": 37,
   "metadata": {},
   "outputs": [
    {
     "name": "stdout",
     "output_type": "stream",
     "text": [
      "Доверительный интервал среднего количества просмотренной рекламмы по группе ad: (25, 25)\n"
     ]
    }
   ],
   "source": [
    "import statistics\n",
    "from scipy.stats import t\n",
    "\n",
    "n_a = df_a['user id'].count() # размер выборки\n",
    "k_a = n_a-1 # число степеней свободы\n",
    "x_mean_a = df_a['total ads'].mean() # выборочное среднее\n",
    "x_std_a = statistics.stdev(df_a['total ads']) # выборочное стандартное отклонение\n",
    "gamma = 0.95 # уровень надёжности\n",
    "alpha = 1 - gamma # уровень значимости\n",
    "t_crit = -t.ppf(alpha/2, k_a) # t-критическое\n",
    "\n",
    "eps = t_crit * x_std_a/(n_a ** 0.5) # погрешность\n",
    "lower_bound = x_mean_a - eps # левая (нижняя) граница\n",
    "upper_bound = x_mean_a + eps # правая (верхняя) граница\n",
    "confidence_interval = (round(lower_bound), round(upper_bound)) # создаём кортеж из округлённых границ интервала\n",
    "print(f'Доверительный интервал среднего количества просмотренной рекламмы по группе ad: {confidence_interval}') # выводим результа"
   ]
  },
  {
   "cell_type": "markdown",
   "metadata": {},
   "source": [
    "Доверительный интервал по среднему количеству уведенной рекламы в группе В"
   ]
  },
  {
   "cell_type": "code",
   "execution_count": 38,
   "metadata": {},
   "outputs": [
    {
     "name": "stdout",
     "output_type": "stream",
     "text": [
      "Доверительный интервал: (24, 25)\n"
     ]
    }
   ],
   "source": [
    "n_b = df_b['user id'].count() # размер выборки\n",
    "k_b = n_b-1 # число степеней свободы\n",
    "x_mean_b = df_b['total ads'].mean() # выборочное среднее\n",
    "x_std_b = statistics.stdev(df_b['total ads']) # выборочное стандартное отклонение\n",
    "gamma = 0.95 # уровень надёжности\n",
    "alpha = 1 - gamma # уровень значимости\n",
    "\n",
    "eps = t_crit * x_std_b/(n_b ** 0.5) # погрешность\n",
    "lower_bound = x_mean_b - eps # левая (нижняя) граница\n",
    "upper_bound = x_mean_b + eps # правая (верхняя) граница\n",
    "confidence_interval = (round(lower_bound), round(upper_bound)) # создаём кортеж из округлённых границ интервала\n",
    "print(f'Доверительный интервал: {confidence_interval}') # выводим результа"
   ]
  },
  {
   "cell_type": "markdown",
   "metadata": {},
   "source": [
    "    Видим, что интервалы перекрываются.Теперь сделаем по правильному через Bootstrap\n"
   ]
  },
  {
   "cell_type": "code",
   "execution_count": 39,
   "metadata": {},
   "outputs": [
    {
     "name": "stdout",
     "output_type": "stream",
     "text": [
      "Доверительный интервал среднего для группы ad: (24.70186728293926, 24.93937682548173)\n",
      "Доверительный интервал среднего для группы psa: (24.22804476279544, 25.308022657711273)\n"
     ]
    },
    {
     "data": {
      "image/png": "[encoded data removed]",
      "text/plain": [
       "<Figure size 640x480 with 1 Axes>"
      ]
     },
     "metadata": {},
     "output_type": "display_data"
    }
   ],
   "source": [
    "# Метод 1\n",
    "# Данные\n",
    "group_ad = df_a['total ads']\n",
    "group_psa = df_b['total ads']\n",
    "\n",
    "# Функция для бутстрэп-выборок\n",
    "def bootstrap_sample(data, num_samples=1000):\n",
    "    samples = []\n",
    "    for _ in range(num_samples):\n",
    "        sample = np.random.choice(data, size=len(data), replace=True)\n",
    "        samples.append(sample)\n",
    "    return samples\n",
    "\n",
    "# Функция для расчета интересующей статистики (например, среднего)\n",
    "def calculate_statistic(data):\n",
    "    return np.mean(data)\n",
    "\n",
    "# Создание бутстрэп-выборок для каждой группы\n",
    "bootstrap_samples_ad = bootstrap_sample(group_ad)\n",
    "bootstrap_samples_psa = bootstrap_sample(group_psa)\n",
    "\n",
    "# Расчет статистики для каждой бутстрэп-выборки\n",
    "bootstrap_means_ad = [calculate_statistic(sample) for sample in bootstrap_samples_ad]\n",
    "bootstrap_means_psa = [calculate_statistic(sample) for sample in bootstrap_samples_psa]\n",
    "\n",
    "# Расчет доверительных интервалов\n",
    "ci_ads_ad = np.percentile(bootstrap_means_ad, [2.5, 97.5])\n",
    "ci_ads_psa = np.percentile(bootstrap_means_psa, [2.5, 97.5])\n",
    "\n",
    "# Вывод результатов\n",
    "print(f\"Доверительный интервал среднего для группы ad: ({ci_ads_ad[0]}, {ci_ads_ad[1]})\")\n",
    "print(f\"Доверительный интервал среднего для группы psa: ({ci_ads_psa[0]}, {ci_ads_psa[1]})\")\n",
    "\n",
    "# Визуализация бутстрэп-распределений\n",
    "sns.histplot(bootstrap_means_ad, kde=True, label='ad', color='Blue')\n",
    "sns.histplot(bootstrap_means_psa, kde=True, label='psa', color ='Orange')\n",
    "plt.xlabel('Среднее количество увиденной рекламы')\n",
    "plt.ylabel('Количество людей')\n",
    "plt.legend()\n",
    "plt.show()\n"
   ]
  },
  {
   "cell_type": "code",
   "execution_count": 40,
   "metadata": {},
   "outputs": [
    {
     "name": "stdout",
     "output_type": "stream",
     "text": [
      "95.000 confidence interval 24.707 and 24.939\n",
      "95.000 confidence interval 24.202 and 25.272\n"
     ]
    },
    {
     "data": {
      "image/png": "[encoded data removed]",
      "text/plain": [
       "<Figure size 640x480 with 1 Axes>"
      ]
     },
     "metadata": {},
     "output_type": "display_data"
    }
   ],
   "source": [
    "# Метод 2 - перепроверка\n",
    "from sklearn.utils import resample\n",
    "\n",
    "\n",
    "x_a = df_a['total ads']\n",
    "# configure bootstrap\n",
    "n_iterations = 1000\n",
    "n_size = int(len(x_a))\n",
    "\n",
    "# run bootstrap\n",
    "mean_a = list()\n",
    "for i in range(n_iterations):\n",
    "    # prepare train and test sets\n",
    "    s = resample(x_a, n_samples=n_size);\n",
    "    m = np.mean(s);\n",
    "    #print(m)\n",
    "    mean_a.append(m)\n",
    "\n",
    "# confidence intervals\n",
    "alpha = 0.95\n",
    "p_lower = ((1.0-alpha)/2.0) * 100\n",
    "lower =  np.percentile(mean_a, p_lower)\n",
    "\n",
    "p_upper = (alpha+((1.0-alpha)/2.0)) * 100\n",
    "upper =  np.percentile(mean_a, p_upper)\n",
    "print('%.3f confidence interval %.3f and %.3f' % (alpha*100, lower, upper))\n",
    "\n",
    "\n",
    "x_b = df_b['total ads']\n",
    "# configure bootstrap\n",
    "n_iterations = 1000\n",
    "n_size = int(len(x_b))\n",
    "\n",
    "# run bootstrap\n",
    "mean_b = list()\n",
    "for i in range(n_iterations):\n",
    "    # prepare train and test sets\n",
    "    s = resample(x_b, n_samples=n_size);\n",
    "    m = np.mean(s);\n",
    "    #print(m)\n",
    "    mean_b.append(m)\n",
    "\n",
    "# confidence intervals\n",
    "alpha = 0.95\n",
    "p_lower = ((1.0-alpha)/2.0) * 100\n",
    "lower =  np.percentile(mean_b, p_lower)\n",
    "\n",
    "p_upper = (alpha+((1.0-alpha)/2.0)) * 100\n",
    "upper =  np.percentile(mean_b, p_upper)\n",
    "print('%.3f confidence interval %.3f and %.3f' % (alpha*100, lower, upper))\n",
    "\n",
    "# Визуализация бутстрэп-распределений\n",
    "sns.histplot(mean_a, kde=True, label='ad', color='Blue')\n",
    "sns.histplot(mean_b, kde=True, label='psa', color ='Orange')\n",
    "plt.xlabel('Среднее количество увиденной рекламы')\n",
    "plt.ylabel('Количество людей')\n",
    "plt.legend()\n",
    "plt.show()\n",
    "\n"
   ]
  },
  {
   "cell_type": "markdown",
   "metadata": {},
   "source": [
    "    Судя по данным доверительным интервалам, CI у разных групп пересекаются, что действительно заставляет задуматься, что разницы в среднем количестве просмотренной рекламмы у групп не имеется"
   ]
  },
  {
   "cell_type": "markdown",
   "metadata": {},
   "source": [
    "        Выводы:\n",
    "        1. Компании заинтересованы в ответах на два вопроса:\n",
    "\n",
    "                1)Будет ли кампания успешной? - сложный вопрос, на который мы не получили ответ\n",
    "\n",
    "                2)Если кампания была успешной, насколько этот успех можно объяснить рекламой? - статистическая значимость показывает, что разница в конверсиях в группах существует (конкретно для группы ad конверсия стат.значимо больше), однако ответить на вопрос об успехе благодаря рекламме сложно. На это есть причина: казалось бы стат.значимость говорит нам, что разница между средним количеством просмотренной рекламмы действительно существует (и вроде как тест Манна-Уитни greater говорит нам о том, что mean total ads в группе ad больше, хотя и незначительно), однако пересечение доверительных интервалов заставляет задуматься, что рекламма не сработала. \n"
   ]
  }
 ],
 "metadata": {
  "kernelspec": {
   "display_name": "base",
   "language": "python",
   "name": "python3"
  },
  "language_info": {
   "codemirror_mode": {
    "name": "ipython",
    "version": 3
   },
   "file_extension": ".py",
   "mimetype": "text/x-python",
   "name": "python",
   "nbconvert_exporter": "python",
   "pygments_lexer": "ipython3",
   "version": "3.11.5"
  }
 },
 "nbformat": 4,
 "nbformat_minor": 2
}
